{
 "cells": [
  {
   "cell_type": "code",
   "execution_count": 1,
   "metadata": {},
   "outputs": [],
   "source": [
    "# Creamos el DataFrame\n",
    "import ast\n",
    "import pandas as pd\n",
    "\n",
    "rows = []\n",
    "with open(\"steam_games.json\") as f:\n",
    "    for line in f.readlines():\n",
    "        rows.append(ast.literal_eval(line))\n",
    "\n",
    "df = pd.DataFrame(rows)"
   ]
  },
  {
   "cell_type": "code",
   "execution_count": 3,
   "metadata": {},
   "outputs": [],
   "source": [
    "# Seleccionar las columnas deseadas\n",
    "columnas_deseadas = [\"release_date\", \"genres\", \"metascore\", \"price\"]\n",
    "\n",
    "# Crear el nuevo DataFrame solo con las columnas deseadas\n",
    "df_reduced = df[columnas_deseadas].copy()\n"
   ]
  },
  {
   "cell_type": "code",
   "execution_count": 50,
   "metadata": {},
   "outputs": [
    {
     "data": {
      "text/html": [
       "<div>\n",
       "<style scoped>\n",
       "    .dataframe tbody tr th:only-of-type {\n",
       "        vertical-align: middle;\n",
       "    }\n",
       "\n",
       "    .dataframe tbody tr th {\n",
       "        vertical-align: top;\n",
       "    }\n",
       "\n",
       "    .dataframe thead th {\n",
       "        text-align: right;\n",
       "    }\n",
       "</style>\n",
       "<table border=\"1\" class=\"dataframe\">\n",
       "  <thead>\n",
       "    <tr style=\"text-align: right;\">\n",
       "      <th></th>\n",
       "      <th>metascore</th>\n",
       "      <th>price</th>\n",
       "      <th>year</th>\n",
       "      <th>Action</th>\n",
       "      <th>Adventure</th>\n",
       "      <th>Casual</th>\n",
       "      <th>Early Access</th>\n",
       "      <th>Free to Play</th>\n",
       "      <th>Indie</th>\n",
       "      <th>Massively Multiplayer</th>\n",
       "      <th>RPG</th>\n",
       "      <th>Racing</th>\n",
       "      <th>Simulation</th>\n",
       "      <th>Sports</th>\n",
       "      <th>Strategy</th>\n",
       "      <th>Video Production</th>\n",
       "    </tr>\n",
       "  </thead>\n",
       "  <tbody>\n",
       "    <tr>\n",
       "      <th>32109</th>\n",
       "      <td>71.0</td>\n",
       "      <td>4.99</td>\n",
       "      <td>2001.0</td>\n",
       "      <td>1</td>\n",
       "      <td>0</td>\n",
       "      <td>0</td>\n",
       "      <td>0</td>\n",
       "      <td>0</td>\n",
       "      <td>0</td>\n",
       "      <td>0</td>\n",
       "      <td>0</td>\n",
       "      <td>0</td>\n",
       "      <td>0</td>\n",
       "      <td>0</td>\n",
       "      <td>0</td>\n",
       "      <td>0</td>\n",
       "    </tr>\n",
       "    <tr>\n",
       "      <th>32112</th>\n",
       "      <td>88.0</td>\n",
       "      <td>14.99</td>\n",
       "      <td>2002.0</td>\n",
       "      <td>1</td>\n",
       "      <td>1</td>\n",
       "      <td>0</td>\n",
       "      <td>0</td>\n",
       "      <td>0</td>\n",
       "      <td>0</td>\n",
       "      <td>0</td>\n",
       "      <td>0</td>\n",
       "      <td>0</td>\n",
       "      <td>0</td>\n",
       "      <td>0</td>\n",
       "      <td>0</td>\n",
       "      <td>0</td>\n",
       "    </tr>\n",
       "    <tr>\n",
       "      <th>32114</th>\n",
       "      <td>79.0</td>\n",
       "      <td>4.99</td>\n",
       "      <td>2003.0</td>\n",
       "      <td>1</td>\n",
       "      <td>0</td>\n",
       "      <td>0</td>\n",
       "      <td>0</td>\n",
       "      <td>0</td>\n",
       "      <td>0</td>\n",
       "      <td>0</td>\n",
       "      <td>0</td>\n",
       "      <td>0</td>\n",
       "      <td>0</td>\n",
       "      <td>0</td>\n",
       "      <td>0</td>\n",
       "      <td>0</td>\n",
       "    </tr>\n",
       "    <tr>\n",
       "      <th>32116</th>\n",
       "      <td>93.0</td>\n",
       "      <td>14.99</td>\n",
       "      <td>2004.0</td>\n",
       "      <td>1</td>\n",
       "      <td>0</td>\n",
       "      <td>0</td>\n",
       "      <td>0</td>\n",
       "      <td>0</td>\n",
       "      <td>0</td>\n",
       "      <td>0</td>\n",
       "      <td>0</td>\n",
       "      <td>0</td>\n",
       "      <td>0</td>\n",
       "      <td>0</td>\n",
       "      <td>0</td>\n",
       "      <td>0</td>\n",
       "    </tr>\n",
       "    <tr>\n",
       "      <th>32117</th>\n",
       "      <td>65.0</td>\n",
       "      <td>9.99</td>\n",
       "      <td>2004.0</td>\n",
       "      <td>1</td>\n",
       "      <td>0</td>\n",
       "      <td>0</td>\n",
       "      <td>0</td>\n",
       "      <td>0</td>\n",
       "      <td>0</td>\n",
       "      <td>0</td>\n",
       "      <td>0</td>\n",
       "      <td>0</td>\n",
       "      <td>0</td>\n",
       "      <td>0</td>\n",
       "      <td>0</td>\n",
       "      <td>0</td>\n",
       "    </tr>\n",
       "  </tbody>\n",
       "</table>\n",
       "</div>"
      ],
      "text/plain": [
       "       metascore  price    year  Action  Adventure  Casual  Early Access  \\\n",
       "32109       71.0   4.99  2001.0       1          0       0             0   \n",
       "32112       88.0  14.99  2002.0       1          1       0             0   \n",
       "32114       79.0   4.99  2003.0       1          0       0             0   \n",
       "32116       93.0  14.99  2004.0       1          0       0             0   \n",
       "32117       65.0   9.99  2004.0       1          0       0             0   \n",
       "\n",
       "       Free to Play  Indie  Massively Multiplayer  RPG  Racing  Simulation  \\\n",
       "32109             0      0                      0    0       0           0   \n",
       "32112             0      0                      0    0       0           0   \n",
       "32114             0      0                      0    0       0           0   \n",
       "32116             0      0                      0    0       0           0   \n",
       "32117             0      0                      0    0       0           0   \n",
       "\n",
       "       Sports  Strategy  Video Production  \n",
       "32109       0         0                 0  \n",
       "32112       0         0                 0  \n",
       "32114       0         0                 0  \n",
       "32116       0         0                 0  \n",
       "32117       0         0                 0  "
      ]
     },
     "execution_count": 50,
     "metadata": {},
     "output_type": "execute_result"
    }
   ],
   "source": [
    "df_reduced.tail()"
   ]
  },
  {
   "cell_type": "code",
   "execution_count": 8,
   "metadata": {},
   "outputs": [],
   "source": [
    "# Convertir la columna \"price\" a numérica y reemplazar los valores no numéricos con 0\n",
    "df_reduced['price'] = pd.to_numeric(df['price'], errors='coerce').fillna(0)"
   ]
  },
  {
   "cell_type": "code",
   "execution_count": 12,
   "metadata": {},
   "outputs": [],
   "source": [
    "# Eliminar filas con valores nulos en la columna \"price\"\n",
    "df_reduced.dropna(subset=['price'], inplace=True)"
   ]
  },
  {
   "cell_type": "code",
   "execution_count": 14,
   "metadata": {},
   "outputs": [],
   "source": [
    "# Eliminar filas con valores nulos en la columna \"metascore\"\n",
    "df_reduced.dropna(subset=['metascore'], inplace=True)"
   ]
  },
  {
   "cell_type": "code",
   "execution_count": 32,
   "metadata": {},
   "outputs": [],
   "source": [
    "import pandas as pd\n",
    "\n",
    "# Reemplazar los valores \"NA\" por NaN en la columna \"metascore\"\n",
    "df_reduced[\"metascore\"] = df_reduced[\"metascore\"].replace(\"NA\", pd.NA)\n",
    "\n",
    "# Convertir la columna \"metascore\" a tipo numérico\n",
    "df_reduced[\"metascore\"] = pd.to_numeric(df_reduced[\"metascore\"], errors='coerce')\n",
    "\n",
    "# Eliminar filas con valores NaN en la columna \"metascore\" del DataFrame \"df_reduced\"\n",
    "df_reduced.dropna(subset=[\"metascore\"], inplace=True)\n"
   ]
  },
  {
   "cell_type": "code",
   "execution_count": 38,
   "metadata": {},
   "outputs": [
    {
     "name": "stdout",
     "output_type": "stream",
     "text": [
      "<class 'pandas.core.frame.DataFrame'>\n",
      "Int64Index: 2607 entries, 28 to 32117\n",
      "Data columns (total 16 columns):\n",
      " #   Column                 Non-Null Count  Dtype  \n",
      "---  ------                 --------------  -----  \n",
      " 0   metascore              2607 non-null   float64\n",
      " 1   price                  2607 non-null   float64\n",
      " 2   year                   2553 non-null   float64\n",
      " 3   Action                 2607 non-null   int64  \n",
      " 4   Adventure              2607 non-null   int64  \n",
      " 5   Casual                 2607 non-null   int64  \n",
      " 6   Early Access           2607 non-null   int64  \n",
      " 7   Free to Play           2607 non-null   int64  \n",
      " 8   Indie                  2607 non-null   int64  \n",
      " 9   Massively Multiplayer  2607 non-null   int64  \n",
      " 10  RPG                    2607 non-null   int64  \n",
      " 11  Racing                 2607 non-null   int64  \n",
      " 12  Simulation             2607 non-null   int64  \n",
      " 13  Sports                 2607 non-null   int64  \n",
      " 14  Strategy               2607 non-null   int64  \n",
      " 15  Video Production       2607 non-null   int64  \n",
      "dtypes: float64(3), int64(13)\n",
      "memory usage: 346.2 KB\n"
     ]
    }
   ],
   "source": [
    "df_reduced.info()"
   ]
  },
  {
   "cell_type": "code",
   "execution_count": 35,
   "metadata": {},
   "outputs": [],
   "source": [
    "# Transformación del año\n",
    "df_reduced[\"year\"] = pd.to_datetime(df_reduced[\"release_date\"]).dt.year\n",
    "\n",
    "# Transformación del género utilizando codificación one-hot\n",
    "generos_dummies = df_reduced[\"genres\"].str.join(\",\").str.get_dummies(sep=\",\")\n",
    "df_reduced = pd.concat([df_reduced, generos_dummies], axis=1)\n",
    "\n",
    "# Eliminar las columnas originales de \"release_date\" y \"genres\"\n",
    "df_reduced.drop([\"release_date\", \"genres\"], axis=1, inplace=True)\n"
   ]
  },
  {
   "cell_type": "code",
   "execution_count": 45,
   "metadata": {},
   "outputs": [],
   "source": [
    "# Eliminar filas con valores NaN en la columna \"year\" del DataFrame \"df_reduced\"\n",
    "df_reduced.dropna(subset=[\"year\"], inplace=True)\n"
   ]
  },
  {
   "cell_type": "code",
   "execution_count": 46,
   "metadata": {},
   "outputs": [],
   "source": [
    "import pandas as pd\n",
    "from sklearn.model_selection import train_test_split\n",
    "from sklearn.linear_model import LinearRegression\n",
    "from sklearn.metrics import mean_squared_error, r2_score\n",
    "\n",
    "# Supongamos que tienes tus datos en un DataFrame llamado \"df\"\n",
    "# Eliminar la columna \"price\" para utilizarla como variable objetivo para la predicción\n",
    "X = df_reduced.drop(columns=['price'])\n",
    "y = df_reduced['price']\n",
    "\n",
    "# Dividir los datos en conjuntos de entrenamiento y prueba\n",
    "X_train, X_test, y_train, y_test = train_test_split(X, y, test_size=0.2, random_state=42)\n",
    "\n",
    "# Crear el modelo de regresión lineal múltiple\n",
    "model = LinearRegression()\n",
    "\n",
    "# Entrenar el modelo con los datos de entrenamiento\n",
    "model.fit(X_train, y_train)\n",
    "\n",
    "# Realizar predicciones en el conjunto de prueba\n",
    "y_pred = model.predict(X_test)\n",
    "\n",
    "# Evaluar el rendimiento del modelo\n",
    "mse = mean_squared_error(y_test, y_pred)\n",
    "r2 = r2_score(y_test, y_pred)"
   ]
  },
  {
   "cell_type": "code",
   "execution_count": 47,
   "metadata": {},
   "outputs": [
    {
     "name": "stdout",
     "output_type": "stream",
     "text": [
      "Root Mean Squared Error: 8.36414991271523\n"
     ]
    }
   ],
   "source": [
    "from sklearn.metrics import mean_squared_error\n",
    "import numpy as np\n",
    "\n",
    "# Calcular el MSE\n",
    "mse = mean_squared_error(y_test, y_pred)\n",
    "\n",
    "# Calcular el RMSE\n",
    "rmse = np.sqrt(mse)\n",
    "\n",
    "# Mostrar el RMSE\n",
    "print(\"Root Mean Squared Error:\", rmse)"
   ]
  },
  {
   "cell_type": "code",
   "execution_count": 48,
   "metadata": {},
   "outputs": [],
   "source": [
    "import pickle\n",
    "\n",
    "# Guardar el modelo en un archivo pickle\n",
    "with open('model.pkl', 'wb') as file:\n",
    "    pickle.dump(model, file)"
   ]
  },
  {
   "cell_type": "code",
   "execution_count": 51,
   "metadata": {},
   "outputs": [
    {
     "name": "stdout",
     "output_type": "stream",
     "text": [
      "       Precio Real  Predicción  Diferencia\n",
      "2845         14.99   13.166942    1.823058\n",
      "28690        14.99   15.319067   -0.329067\n",
      "18950        44.99   19.424351   25.565649\n",
      "31840         9.99   11.831373   -1.841373\n",
      "838           9.99   19.055511   -9.065511\n",
      "28385         9.99   12.933436   -2.943436\n",
      "31381         9.99   16.409726   -6.419726\n",
      "16046        19.99   22.064652   -2.074652\n",
      "24354         9.99    9.582067    0.407933\n",
      "142           9.99   13.527662   -3.537662\n"
     ]
    }
   ],
   "source": [
    "# Calcular las diferencias (residuos)\n",
    "diferencias = y_test - y_pred\n",
    "\n",
    "# Crear un DataFrame para visualizar las diferencias junto con las predicciones y los valores reales\n",
    "resultados = pd.DataFrame({'Precio Real': y_test, 'Predicción': y_pred, 'Diferencia': diferencias})\n",
    "\n",
    "# Mostrar los ejemplos de 20 a 30\n",
    "print(resultados.iloc[10:20])"
   ]
  }
 ],
 "metadata": {
  "kernelspec": {
   "display_name": "base",
   "language": "python",
   "name": "python3"
  },
  "language_info": {
   "codemirror_mode": {
    "name": "ipython",
    "version": 3
   },
   "file_extension": ".py",
   "mimetype": "text/x-python",
   "name": "python",
   "nbconvert_exporter": "python",
   "pygments_lexer": "ipython3",
   "version": "3.10.9"
  },
  "orig_nbformat": 4
 },
 "nbformat": 4,
 "nbformat_minor": 2
}
