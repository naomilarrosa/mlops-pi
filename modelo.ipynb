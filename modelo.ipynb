{
 "cells": [
  {
   "cell_type": "code",
   "execution_count": 1,
   "metadata": {},
   "outputs": [],
   "source": [
    "# Creamos el DataFrame\n",
    "import ast\n",
    "import pandas as pd\n",
    "\n",
    "rows = []\n",
    "with open(\"steam_games.json\") as f:\n",
    "    for line in f.readlines():\n",
    "        rows.append(ast.literal_eval(line))\n",
    "\n",
    "df = pd.DataFrame(rows)"
   ]
  },
  {
   "cell_type": "code",
   "execution_count": 2,
   "metadata": {},
   "outputs": [
    {
     "name": "stdout",
     "output_type": "stream",
     "text": [
      "<class 'pandas.core.frame.DataFrame'>\n",
      "RangeIndex: 32135 entries, 0 to 32134\n",
      "Data columns (total 16 columns):\n",
      " #   Column          Non-Null Count  Dtype  \n",
      "---  ------          --------------  -----  \n",
      " 0   publisher       24083 non-null  object \n",
      " 1   genres          28852 non-null  object \n",
      " 2   app_name        32133 non-null  object \n",
      " 3   title           30085 non-null  object \n",
      " 4   url             32135 non-null  object \n",
      " 5   release_date    30068 non-null  object \n",
      " 6   tags            31972 non-null  object \n",
      " 7   discount_price  225 non-null    float64\n",
      " 8   reviews_url     32133 non-null  object \n",
      " 9   specs           31465 non-null  object \n",
      " 10  price           30758 non-null  object \n",
      " 11  early_access    32135 non-null  bool   \n",
      " 12  id              32133 non-null  object \n",
      " 13  developer       28836 non-null  object \n",
      " 14  sentiment       24953 non-null  object \n",
      " 15  metascore       2677 non-null   object \n",
      "dtypes: bool(1), float64(1), object(14)\n",
      "memory usage: 3.7+ MB\n"
     ]
    }
   ],
   "source": [
    "df.info()"
   ]
  },
  {
   "cell_type": "code",
   "execution_count": 3,
   "metadata": {},
   "outputs": [],
   "source": [
    "# Seleccionar las columnas deseadas\n",
    "columnas_deseadas = [\"release_date\", \"genres\", \"metascore\", \"price\", \"early_access\"]\n",
    "\n",
    "# Crear el nuevo DataFrame solo con las columnas deseadas\n",
    "df_reduced = df[columnas_deseadas].copy()\n"
   ]
  },
  {
   "cell_type": "code",
   "execution_count": 4,
   "metadata": {},
   "outputs": [
    {
     "data": {
      "text/html": [
       "<div>\n",
       "<style scoped>\n",
       "    .dataframe tbody tr th:only-of-type {\n",
       "        vertical-align: middle;\n",
       "    }\n",
       "\n",
       "    .dataframe tbody tr th {\n",
       "        vertical-align: top;\n",
       "    }\n",
       "\n",
       "    .dataframe thead th {\n",
       "        text-align: right;\n",
       "    }\n",
       "</style>\n",
       "<table border=\"1\" class=\"dataframe\">\n",
       "  <thead>\n",
       "    <tr style=\"text-align: right;\">\n",
       "      <th></th>\n",
       "      <th>release_date</th>\n",
       "      <th>genres</th>\n",
       "      <th>metascore</th>\n",
       "      <th>price</th>\n",
       "      <th>early_access</th>\n",
       "    </tr>\n",
       "  </thead>\n",
       "  <tbody>\n",
       "    <tr>\n",
       "      <th>32130</th>\n",
       "      <td>2018-01-04</td>\n",
       "      <td>[Casual, Indie, Simulation, Strategy]</td>\n",
       "      <td>NaN</td>\n",
       "      <td>1.99</td>\n",
       "      <td>False</td>\n",
       "    </tr>\n",
       "    <tr>\n",
       "      <th>32131</th>\n",
       "      <td>2018-01-04</td>\n",
       "      <td>[Casual, Indie, Strategy]</td>\n",
       "      <td>NaN</td>\n",
       "      <td>4.99</td>\n",
       "      <td>False</td>\n",
       "    </tr>\n",
       "    <tr>\n",
       "      <th>32132</th>\n",
       "      <td>2018-01-04</td>\n",
       "      <td>[Indie, Racing, Simulation]</td>\n",
       "      <td>NaN</td>\n",
       "      <td>1.99</td>\n",
       "      <td>False</td>\n",
       "    </tr>\n",
       "    <tr>\n",
       "      <th>32133</th>\n",
       "      <td>2017-09-02</td>\n",
       "      <td>[Casual, Indie]</td>\n",
       "      <td>NaN</td>\n",
       "      <td>4.99</td>\n",
       "      <td>False</td>\n",
       "    </tr>\n",
       "    <tr>\n",
       "      <th>32134</th>\n",
       "      <td>NaN</td>\n",
       "      <td>NaN</td>\n",
       "      <td>NaN</td>\n",
       "      <td>4.99</td>\n",
       "      <td>True</td>\n",
       "    </tr>\n",
       "  </tbody>\n",
       "</table>\n",
       "</div>"
      ],
      "text/plain": [
       "      release_date                                 genres metascore price  \\\n",
       "32130   2018-01-04  [Casual, Indie, Simulation, Strategy]       NaN  1.99   \n",
       "32131   2018-01-04              [Casual, Indie, Strategy]       NaN  4.99   \n",
       "32132   2018-01-04            [Indie, Racing, Simulation]       NaN  1.99   \n",
       "32133   2017-09-02                        [Casual, Indie]       NaN  4.99   \n",
       "32134          NaN                                    NaN       NaN  4.99   \n",
       "\n",
       "       early_access  \n",
       "32130         False  \n",
       "32131         False  \n",
       "32132         False  \n",
       "32133         False  \n",
       "32134          True  "
      ]
     },
     "execution_count": 4,
     "metadata": {},
     "output_type": "execute_result"
    }
   ],
   "source": [
    "df_reduced.tail()"
   ]
  },
  {
   "cell_type": "code",
   "execution_count": 5,
   "metadata": {},
   "outputs": [],
   "source": [
    "# Convertir la columna \"price\" a numérica y reemplazar los valores no numéricos con 0\n",
    "df_reduced['price'] = pd.to_numeric(df['price'], errors='coerce').fillna(0)"
   ]
  },
  {
   "cell_type": "code",
   "execution_count": 6,
   "metadata": {},
   "outputs": [],
   "source": [
    "# Eliminar filas con valores nulos en la columna \"price\"\n",
    "df_reduced.dropna(subset=['price'], inplace=True)"
   ]
  },
  {
   "cell_type": "code",
   "execution_count": 7,
   "metadata": {},
   "outputs": [],
   "source": [
    "# Eliminar filas con valores nulos en la columna \"metascore\"\n",
    "df_reduced.dropna(subset=['metascore'], inplace=True)"
   ]
  },
  {
   "cell_type": "code",
   "execution_count": 8,
   "metadata": {},
   "outputs": [],
   "source": [
    "\n",
    "\n",
    "# Reemplazar los valores \"NA\" por NaN en la columna \"metascore\"\n",
    "df_reduced[\"metascore\"] = df_reduced[\"metascore\"].replace(\"NA\", pd.NA)\n",
    "\n",
    "# Convertir la columna \"metascore\" a tipo numérico\n",
    "df_reduced[\"metascore\"] = pd.to_numeric(df_reduced[\"metascore\"], errors='coerce')\n",
    "\n",
    "# Eliminar filas con valores NaN en la columna \"metascore\" del DataFrame \"df_reduced\"\n",
    "df_reduced.dropna(subset=[\"metascore\"], inplace=True)\n"
   ]
  },
  {
   "cell_type": "code",
   "execution_count": 9,
   "metadata": {},
   "outputs": [
    {
     "name": "stdout",
     "output_type": "stream",
     "text": [
      "<class 'pandas.core.frame.DataFrame'>\n",
      "Int64Index: 2607 entries, 28 to 32117\n",
      "Data columns (total 5 columns):\n",
      " #   Column        Non-Null Count  Dtype  \n",
      "---  ------        --------------  -----  \n",
      " 0   release_date  2553 non-null   object \n",
      " 1   genres        2545 non-null   object \n",
      " 2   metascore     2607 non-null   float64\n",
      " 3   price         2607 non-null   float64\n",
      " 4   early_access  2607 non-null   bool   \n",
      "dtypes: bool(1), float64(2), object(2)\n",
      "memory usage: 104.4+ KB\n"
     ]
    }
   ],
   "source": [
    "df_reduced.info()"
   ]
  },
  {
   "cell_type": "code",
   "execution_count": 10,
   "metadata": {},
   "outputs": [],
   "source": [
    "# Transformación del año\n",
    "df_reduced[\"year\"] = pd.to_datetime(df_reduced[\"release_date\"]).dt.year\n",
    "\n",
    "# Transformación del género utilizando codificación one-hot\n",
    "generos_dummies = df_reduced[\"genres\"].str.join(\",\").str.get_dummies(sep=\",\")\n",
    "df_reduced = pd.concat([df_reduced, generos_dummies], axis=1)\n",
    "\n",
    "# Eliminar las columnas originales de \"release_date\" y \"genres\"\n",
    "df_reduced.drop([\"release_date\", \"genres\"], axis=1, inplace=True)\n"
   ]
  },
  {
   "cell_type": "code",
   "execution_count": 11,
   "metadata": {},
   "outputs": [],
   "source": [
    "# Eliminar filas con valores NaN en la columna \"year\" del DataFrame \"df_reduced\"\n",
    "df_reduced.dropna(subset=[\"year\"], inplace=True)"
   ]
  },
  {
   "cell_type": "code",
   "execution_count": 12,
   "metadata": {},
   "outputs": [
    {
     "name": "stdout",
     "output_type": "stream",
     "text": [
      "<class 'pandas.core.frame.DataFrame'>\n",
      "Int64Index: 2553 entries, 28 to 32117\n",
      "Data columns (total 17 columns):\n",
      " #   Column                 Non-Null Count  Dtype  \n",
      "---  ------                 --------------  -----  \n",
      " 0   metascore              2553 non-null   float64\n",
      " 1   price                  2553 non-null   float64\n",
      " 2   early_access           2553 non-null   bool   \n",
      " 3   year                   2553 non-null   float64\n",
      " 4   Action                 2553 non-null   int64  \n",
      " 5   Adventure              2553 non-null   int64  \n",
      " 6   Casual                 2553 non-null   int64  \n",
      " 7   Early Access           2553 non-null   int64  \n",
      " 8   Free to Play           2553 non-null   int64  \n",
      " 9   Indie                  2553 non-null   int64  \n",
      " 10  Massively Multiplayer  2553 non-null   int64  \n",
      " 11  RPG                    2553 non-null   int64  \n",
      " 12  Racing                 2553 non-null   int64  \n",
      " 13  Simulation             2553 non-null   int64  \n",
      " 14  Sports                 2553 non-null   int64  \n",
      " 15  Strategy               2553 non-null   int64  \n",
      " 16  Video Production       2553 non-null   int64  \n",
      "dtypes: bool(1), float64(3), int64(13)\n",
      "memory usage: 341.6 KB\n"
     ]
    }
   ],
   "source": [
    "df_reduced.info()"
   ]
  },
  {
   "cell_type": "code",
   "execution_count": 13,
   "metadata": {},
   "outputs": [],
   "source": [
    "\n",
    "from sklearn.model_selection import train_test_split\n",
    "from sklearn.linear_model import LinearRegression\n",
    "from sklearn.metrics import mean_squared_error, r2_score\n",
    "\n",
    "# Supongamos que tienes tus datos en un DataFrame llamado \"df\"\n",
    "# Eliminar la columna \"price\" para utilizarla como variable objetivo para la predicción\n",
    "X = df_reduced.drop(columns=['price'])\n",
    "y = df_reduced['price']\n",
    "\n",
    "# Dividir los datos en conjuntos de entrenamiento y prueba\n",
    "X_train, X_test, y_train, y_test = train_test_split(X, y, test_size=0.2, random_state=42)\n",
    "\n",
    "# Crear el modelo de regresión lineal múltiple\n",
    "model = LinearRegression()\n",
    "\n",
    "# Entrenar el modelo con los datos de entrenamiento\n",
    "model.fit(X_train, y_train)\n",
    "\n",
    "# Realizar predicciones en el conjunto de prueba\n",
    "y_pred = model.predict(X_test)\n"
   ]
  },
  {
   "cell_type": "code",
   "execution_count": 14,
   "metadata": {},
   "outputs": [
    {
     "name": "stdout",
     "output_type": "stream",
     "text": [
      "Root Mean Squared Error: 8.364149912715206\n"
     ]
    }
   ],
   "source": [
    "from sklearn.metrics import mean_squared_error\n",
    "import numpy as np\n",
    "\n",
    "# Calcular el MSE\n",
    "mse = mean_squared_error(y_test, y_pred)\n",
    "\n",
    "# Calcular el RMSE\n",
    "rmse = np.sqrt(mse)\n",
    "\n",
    "# Mostrar el RMSE\n",
    "print(\"Root Mean Squared Error:\", rmse)"
   ]
  },
  {
   "cell_type": "code",
   "execution_count": 15,
   "metadata": {},
   "outputs": [],
   "source": [
    "import pickle\n",
    "\n",
    "# Guardar el modelo en un archivo pickle\n",
    "with open('model.pkl', 'wb') as file:\n",
    "    pickle.dump(model, file)"
   ]
  },
  {
   "cell_type": "code",
   "execution_count": 16,
   "metadata": {},
   "outputs": [
    {
     "name": "stdout",
     "output_type": "stream",
     "text": [
      "       Precio Real  Predicción  Diferencia\n",
      "2845         14.99   13.166942    1.823058\n",
      "28690        14.99   15.319067   -0.329067\n",
      "18950        44.99   19.424351   25.565649\n",
      "31840         9.99   11.831373   -1.841373\n",
      "838           9.99   19.055511   -9.065511\n",
      "28385         9.99   12.933436   -2.943436\n",
      "31381         9.99   16.409726   -6.419726\n",
      "16046        19.99   22.064652   -2.074652\n",
      "24354         9.99    9.582067    0.407933\n",
      "142           9.99   13.527662   -3.537662\n"
     ]
    }
   ],
   "source": [
    "# Calcular las diferencias (residuos)\n",
    "diferencias = y_test - y_pred\n",
    "\n",
    "# Crear un DataFrame para visualizar las diferencias junto con las predicciones y los valores reales\n",
    "resultados = pd.DataFrame({'Precio Real': y_test, 'Predicción': y_pred, 'Diferencia': diferencias})\n",
    "\n",
    "# Mostrar los ejemplos de 20 a 30\n",
    "print(resultados.iloc[10:20])"
   ]
  }
 ],
 "metadata": {
  "kernelspec": {
   "display_name": "base",
   "language": "python",
   "name": "python3"
  },
  "language_info": {
   "codemirror_mode": {
    "name": "ipython",
    "version": 3
   },
   "file_extension": ".py",
   "mimetype": "text/x-python",
   "name": "python",
   "nbconvert_exporter": "python",
   "pygments_lexer": "ipython3",
   "version": "3.10.9"
  },
  "orig_nbformat": 4
 },
 "nbformat": 4,
 "nbformat_minor": 2
}
